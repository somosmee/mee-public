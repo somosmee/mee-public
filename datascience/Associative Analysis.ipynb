{
 "cells": [
  {
   "cell_type": "markdown",
   "metadata": {},
   "source": [
    "# Associative Analysis - Mee\n",
    "\n",
    "\n",
    "Notion: https://www.notion.so/Associative-Analysis-Mee-2b9e3a89fc344d9f93f490dc69dbadf8\n",
    "\n",
    "\n",
    "# **SMART**\n",
    "\n",
    "**S**pecific **M**easurable **A**ttainable **R**elevant **T**imely\n",
    "\n",
    "## Business Understanding\n",
    "\n",
    "### What's the problem? (S)\n",
    "\n",
    "Some of our customers have a high volume of sales at specific days and they need that the process to add new items to current orders **to be as fast as possible**.\n",
    "\n",
    "Currently the process is the following:\n",
    "\n",
    "- Type the name of the item\n",
    "- Search results are shown as you type\n",
    "- Select the item you want to add\n",
    "- Save it\n",
    "\n",
    "### How do I measure success? (M)\n",
    "\n",
    "We will succeed if we **minimize the number of steps or/and the time required to add new items to an order**.\n",
    "\n",
    "### What's the proposed solution? (A)\n",
    "\n",
    "The insight we have is that **there is a lot of items which are commonly bought together** or in sequence. e.g: A customer that starts drinking beer in the afternoon will likely ask for something to eat shortly.\n",
    "\n",
    "So the idea is that through associative analysis **we can provide suggestions of items that are commonly bought together** based on the items in the current order. That way we **eliminate the most costly step** in many scenarios which is **typing**.\n",
    "\n",
    "In a way this suggestions will act like a **smart cache**. Bringing the items that have a higher probability to be the next ordered item, that way the waiter don't need to type anything. Just select and save.\n",
    "\n",
    "### What's the value that this solution delivers? (R)\n",
    "\n",
    "With a lower attendance time we improve customer experience and increase customer satisfaction. Which can lead into increase in sales due to good reviews and Word-to-mouth marketing.\n",
    "\n",
    "To our customers it improves the perception of value of our solution as a smart and data-driven platform.\n",
    "\n",
    "### How much time it takes to complete the project? (T)\n",
    "\n",
    "- Data exploration and model training → 2 days\n",
    "- Integrate solution with current services → 1 day\n",
    "- Deployment and Testing → 1 day\n",
    "- Monitor → 1 week\n",
    "- Report results → 1 day"
   ]
  },
  {
   "cell_type": "code",
   "execution_count": 1,
   "metadata": {},
   "outputs": [],
   "source": [
    "import pandas as pd\n",
    "from pymongo import MongoClient\n",
    "from bson.objectid import ObjectId"
   ]
  },
  {
   "cell_type": "markdown",
   "metadata": {},
   "source": [
    "# Data Understanding"
   ]
  },
  {
   "cell_type": "code",
   "execution_count": 2,
   "metadata": {},
   "outputs": [
    {
     "data": {
      "text/plain": [
       "['financialStatements',\n",
       " 'suppliers',\n",
       " 'ifoodOrders',\n",
       " 'users',\n",
       " 'companies',\n",
       " 'productionRequests',\n",
       " 'purchases',\n",
       " 'invoices',\n",
       " 'ifoodMarketplace',\n",
       " 'usersProducts',\n",
       " 'products',\n",
       " 'financialFunds',\n",
       " 'changelog',\n",
       " 'orders',\n",
       " 'userBill',\n",
       " 'inventory',\n",
       " 'registerOperations',\n",
       " 'customers']"
      ]
     },
     "execution_count": 2,
     "metadata": {},
     "output_type": "execute_result"
    }
   ],
   "source": [
    "client = MongoClient('mongodb+srv://mee-web:<password>@production-cluster-oty65.gcp.mongodb.net/mee?retryWrites=true&w=majority')\n",
    "db = client['mee']\n",
    "db.list_collection_names()"
   ]
  },
  {
   "cell_type": "code",
   "execution_count": 3,
   "metadata": {},
   "outputs": [],
   "source": [
    "# let's grab a customer with high sales volume\n",
    "colchetesId = ObjectId('5fd604714afe55001cfe1ec6')"
   ]
  },
  {
   "cell_type": "code",
   "execution_count": 4,
   "metadata": {},
   "outputs": [
    {
     "data": {
      "text/plain": [
       "(1548, 2)"
      ]
     },
     "execution_count": 4,
     "metadata": {},
     "output_type": "execute_result"
    }
   ],
   "source": [
    "sales = pd.DataFrame(list(db.orders.find({ 'company': colchetesId, 'status': 'closed' }, { 'items': 1 })))\n",
    "sales.shape"
   ]
  },
  {
   "cell_type": "code",
   "execution_count": 5,
   "metadata": {},
   "outputs": [
    {
     "data": {
      "text/html": [
       "<div>\n",
       "<style scoped>\n",
       "    .dataframe tbody tr th:only-of-type {\n",
       "        vertical-align: middle;\n",
       "    }\n",
       "\n",
       "    .dataframe tbody tr th {\n",
       "        vertical-align: top;\n",
       "    }\n",
       "\n",
       "    .dataframe thead th {\n",
       "        text-align: right;\n",
       "    }\n",
       "</style>\n",
       "<table border=\"1\" class=\"dataframe\">\n",
       "  <thead>\n",
       "    <tr style=\"text-align: right;\">\n",
       "      <th></th>\n",
       "      <th>_id</th>\n",
       "      <th>items</th>\n",
       "    </tr>\n",
       "  </thead>\n",
       "  <tbody>\n",
       "    <tr>\n",
       "      <th>count</th>\n",
       "      <td>1548</td>\n",
       "      <td>1548</td>\n",
       "    </tr>\n",
       "    <tr>\n",
       "      <th>unique</th>\n",
       "      <td>1548</td>\n",
       "      <td>1346</td>\n",
       "    </tr>\n",
       "    <tr>\n",
       "      <th>top</th>\n",
       "      <td>5ff60c28cdbc54001b41041c</td>\n",
       "      <td>[{'discount': 0, 'modifiers': [], 'product': 5...</td>\n",
       "    </tr>\n",
       "    <tr>\n",
       "      <th>freq</th>\n",
       "      <td>1</td>\n",
       "      <td>51</td>\n",
       "    </tr>\n",
       "  </tbody>\n",
       "</table>\n",
       "</div>"
      ],
      "text/plain": [
       "                             _id  \\\n",
       "count                       1548   \n",
       "unique                      1548   \n",
       "top     5ff60c28cdbc54001b41041c   \n",
       "freq                           1   \n",
       "\n",
       "                                                    items  \n",
       "count                                                1548  \n",
       "unique                                               1346  \n",
       "top     [{'discount': 0, 'modifiers': [], 'product': 5...  \n",
       "freq                                                   51  "
      ]
     },
     "execution_count": 5,
     "metadata": {},
     "output_type": "execute_result"
    }
   ],
   "source": [
    "sales.describe()"
   ]
  },
  {
   "cell_type": "code",
   "execution_count": 6,
   "metadata": {},
   "outputs": [
    {
     "data": {
      "text/html": [
       "<div>\n",
       "<style scoped>\n",
       "    .dataframe tbody tr th:only-of-type {\n",
       "        vertical-align: middle;\n",
       "    }\n",
       "\n",
       "    .dataframe tbody tr th {\n",
       "        vertical-align: top;\n",
       "    }\n",
       "\n",
       "    .dataframe thead th {\n",
       "        text-align: right;\n",
       "    }\n",
       "</style>\n",
       "<table border=\"1\" class=\"dataframe\">\n",
       "  <thead>\n",
       "    <tr style=\"text-align: right;\">\n",
       "      <th></th>\n",
       "      <th>_id</th>\n",
       "      <th>items</th>\n",
       "    </tr>\n",
       "  </thead>\n",
       "  <tbody>\n",
       "    <tr>\n",
       "      <th>0</th>\n",
       "      <td>5fb444eaca90840027f4c481</td>\n",
       "      <td>[{'discount': 0, 'modifiers': [], 'product': 5...</td>\n",
       "    </tr>\n",
       "    <tr>\n",
       "      <th>1</th>\n",
       "      <td>5fb444f4ca90840027f4c485</td>\n",
       "      <td>[{'discount': 0, 'modifiers': [], 'product': 5...</td>\n",
       "    </tr>\n",
       "    <tr>\n",
       "      <th>2</th>\n",
       "      <td>5fb446e3ca90840027f4c63e</td>\n",
       "      <td>[{'discount': 0, 'modifiers': [], 'product': 5...</td>\n",
       "    </tr>\n",
       "    <tr>\n",
       "      <th>3</th>\n",
       "      <td>5fb44d54ca90840027f4d636</td>\n",
       "      <td>[{'discount': 0, 'modifiers': [], 'product': 5...</td>\n",
       "    </tr>\n",
       "    <tr>\n",
       "      <th>4</th>\n",
       "      <td>5fb44e6fca90840027f4d841</td>\n",
       "      <td>[{'discount': 0, 'modifiers': [], 'product': 5...</td>\n",
       "    </tr>\n",
       "  </tbody>\n",
       "</table>\n",
       "</div>"
      ],
      "text/plain": [
       "                        _id                                              items\n",
       "0  5fb444eaca90840027f4c481  [{'discount': 0, 'modifiers': [], 'product': 5...\n",
       "1  5fb444f4ca90840027f4c485  [{'discount': 0, 'modifiers': [], 'product': 5...\n",
       "2  5fb446e3ca90840027f4c63e  [{'discount': 0, 'modifiers': [], 'product': 5...\n",
       "3  5fb44d54ca90840027f4d636  [{'discount': 0, 'modifiers': [], 'product': 5...\n",
       "4  5fb44e6fca90840027f4d841  [{'discount': 0, 'modifiers': [], 'product': 5..."
      ]
     },
     "execution_count": 6,
     "metadata": {},
     "output_type": "execute_result"
    }
   ],
   "source": [
    "sales.head()"
   ]
  },
  {
   "cell_type": "code",
   "execution_count": 7,
   "metadata": {},
   "outputs": [
    {
     "data": {
      "text/plain": [
       "[{'discount': 0,\n",
       "  'modifiers': [],\n",
       "  'product': ObjectId('5fb4386dca90840027f4bc9f'),\n",
       "  'gtin': '2000238000177',\n",
       "  'name': 'gin tônica',\n",
       "  'description': None,\n",
       "  'price': 20,\n",
       "  'measurement': 'unit',\n",
       "  'quantity': 1,\n",
       "  'note': '',\n",
       "  'subtotal': 20},\n",
       " {'discount': 0,\n",
       "  'modifiers': [],\n",
       "  'product': ObjectId('5fb2b7ab52448b0027afd2f7'),\n",
       "  'gtin': '2000238000122',\n",
       "  'name': 'chope german pils 350ml',\n",
       "  'description': 'Copo 350ml',\n",
       "  'price': 14,\n",
       "  'measurement': 'unit',\n",
       "  'quantity': 4,\n",
       "  'note': '',\n",
       "  'subtotal': 56}]"
      ]
     },
     "execution_count": 7,
     "metadata": {},
     "output_type": "execute_result"
    }
   ],
   "source": [
    "sales['items'][0]"
   ]
  },
  {
   "cell_type": "markdown",
   "metadata": {},
   "source": [
    "## Data Exploration\n",
    "\n",
    "\n",
    "- Which products are commonly bought together?\n",
    "- Does sazionality matters?\n",
    "- How do we calculate and fine tune model parameters for each company automatically?\n"
   ]
  },
  {
   "cell_type": "markdown",
   "metadata": {},
   "source": [
    "# Modeling"
   ]
  },
  {
   "cell_type": "code",
   "execution_count": 8,
   "metadata": {},
   "outputs": [
    {
     "name": "stdout",
     "output_type": "stream",
     "text": [
      "['gin tônica', 'chope german pils 350ml']\n"
     ]
    }
   ],
   "source": [
    "# we need to transform this series in a list of lists\n",
    "def transform_items_to_transactions(sales, attr='name'):\n",
    "    transactions = []\n",
    "    for i in range(0, sales.shape[0]):\n",
    "        items = []\n",
    "        for j in range(0, len(sales['items'][i])):\n",
    "            item = sales['items'][i][j]\n",
    "            items.append(item[attr])\n",
    "        transactions.append(items)\n",
    "    return transactions\n",
    "\n",
    "transactions = transform_items_to_transactions(sales)\n",
    "print(transactions[0])"
   ]
  },
  {
   "cell_type": "code",
   "execution_count": 9,
   "metadata": {},
   "outputs": [],
   "source": [
    "from apyori import apriori"
   ]
  },
  {
   "cell_type": "code",
   "execution_count": 10,
   "metadata": {},
   "outputs": [],
   "source": [
    "# Support: Frequence of item set\n",
    "# Confidence: Reliability of the rule\n",
    "\n",
    "rules = apriori(transactions, min_support = 0.01, min_confidence = 0.2, min_lift = 2, min_length = 2)"
   ]
  },
  {
   "cell_type": "code",
   "execution_count": 11,
   "metadata": {},
   "outputs": [
    {
     "data": {
      "text/html": [
       "<div>\n",
       "<style scoped>\n",
       "    .dataframe tbody tr th:only-of-type {\n",
       "        vertical-align: middle;\n",
       "    }\n",
       "\n",
       "    .dataframe tbody tr th {\n",
       "        vertical-align: top;\n",
       "    }\n",
       "\n",
       "    .dataframe thead th {\n",
       "        text-align: right;\n",
       "    }\n",
       "</style>\n",
       "<table border=\"1\" class=\"dataframe\">\n",
       "  <thead>\n",
       "    <tr style=\"text-align: right;\">\n",
       "      <th></th>\n",
       "      <th>items</th>\n",
       "      <th>support</th>\n",
       "      <th>ordered_statistics</th>\n",
       "    </tr>\n",
       "  </thead>\n",
       "  <tbody>\n",
       "    <tr>\n",
       "      <th>0</th>\n",
       "      <td>(zn lager chope 400ml, apa 400)</td>\n",
       "      <td>0.012274</td>\n",
       "      <td>[((apa 400), (zn lager chope 400ml), 0.5135135...</td>\n",
       "    </tr>\n",
       "    <tr>\n",
       "      <th>1</th>\n",
       "      <td>(gin tônica, aperol)</td>\n",
       "      <td>0.010336</td>\n",
       "      <td>[((aperol), (gin tônica), 0.3137254901960784, ...</td>\n",
       "    </tr>\n",
       "    <tr>\n",
       "      <th>2</th>\n",
       "      <td>(água mineral com gás natural prata 300ml, ape...</td>\n",
       "      <td>0.010336</td>\n",
       "      <td>[((aperol), (água mineral com gás natural prat...</td>\n",
       "    </tr>\n",
       "    <tr>\n",
       "      <th>3</th>\n",
       "      <td>(água mineral com gás natural prata 300ml, bai...</td>\n",
       "      <td>0.010336</td>\n",
       "      <td>[((baiao executivo), (água mineral com gás nat...</td>\n",
       "    </tr>\n",
       "    <tr>\n",
       "      <th>4</th>\n",
       "      <td>(zn lager chope 400ml, bolinho de arroz com pa...</td>\n",
       "      <td>0.016150</td>\n",
       "      <td>[((bolinho de arroz com parmesão), (zn lager c...</td>\n",
       "    </tr>\n",
       "    <tr>\n",
       "      <th>5</th>\n",
       "      <td>(croqueta de costela, bruschetta de cogumelos)</td>\n",
       "      <td>0.012920</td>\n",
       "      <td>[((bruschetta de cogumelos), (croqueta de cost...</td>\n",
       "    </tr>\n",
       "    <tr>\n",
       "      <th>6</th>\n",
       "      <td>(miracle ipa chope 350ml, bruschetta de cogume...</td>\n",
       "      <td>0.013566</td>\n",
       "      <td>[((bruschetta de cogumelos), (miracle ipa chop...</td>\n",
       "    </tr>\n",
       "    <tr>\n",
       "      <th>7</th>\n",
       "      <td>(croqueta de costela, burrata com tomatinhos, ...</td>\n",
       "      <td>0.011628</td>\n",
       "      <td>[((burrata com tomatinhos, torrada e molho pes...</td>\n",
       "    </tr>\n",
       "    <tr>\n",
       "      <th>8</th>\n",
       "      <td>(dadinhos de tapioca, burrata com tomatinhos, ...</td>\n",
       "      <td>0.012274</td>\n",
       "      <td>[((burrata com tomatinhos, torrada e molho pes...</td>\n",
       "    </tr>\n",
       "    <tr>\n",
       "      <th>9</th>\n",
       "      <td>(zn lager chope 400ml, burrata com tomatinhos,...</td>\n",
       "      <td>0.010982</td>\n",
       "      <td>[((burrata com tomatinhos, torrada e molho pes...</td>\n",
       "    </tr>\n",
       "  </tbody>\n",
       "</table>\n",
       "</div>"
      ],
      "text/plain": [
       "                                               items   support  \\\n",
       "0                    (zn lager chope 400ml, apa 400)  0.012274   \n",
       "1                               (gin tônica, aperol)  0.010336   \n",
       "2  (água mineral com gás natural prata 300ml, ape...  0.010336   \n",
       "3  (água mineral com gás natural prata 300ml, bai...  0.010336   \n",
       "4  (zn lager chope 400ml, bolinho de arroz com pa...  0.016150   \n",
       "5     (croqueta de costela, bruschetta de cogumelos)  0.012920   \n",
       "6  (miracle ipa chope 350ml, bruschetta de cogume...  0.013566   \n",
       "7  (croqueta de costela, burrata com tomatinhos, ...  0.011628   \n",
       "8  (dadinhos de tapioca, burrata com tomatinhos, ...  0.012274   \n",
       "9  (zn lager chope 400ml, burrata com tomatinhos,...  0.010982   \n",
       "\n",
       "                                  ordered_statistics  \n",
       "0  [((apa 400), (zn lager chope 400ml), 0.5135135...  \n",
       "1  [((aperol), (gin tônica), 0.3137254901960784, ...  \n",
       "2  [((aperol), (água mineral com gás natural prat...  \n",
       "3  [((baiao executivo), (água mineral com gás nat...  \n",
       "4  [((bolinho de arroz com parmesão), (zn lager c...  \n",
       "5  [((bruschetta de cogumelos), (croqueta de cost...  \n",
       "6  [((bruschetta de cogumelos), (miracle ipa chop...  \n",
       "7  [((burrata com tomatinhos, torrada e molho pes...  \n",
       "8  [((burrata com tomatinhos, torrada e molho pes...  \n",
       "9  [((burrata com tomatinhos, torrada e molho pes...  "
      ]
     },
     "execution_count": 11,
     "metadata": {},
     "output_type": "execute_result"
    }
   ],
   "source": [
    "#viewing the rules\n",
    "results = list(rules)\n",
    "results = pd.DataFrame(results)\n",
    "results.head(10)"
   ]
  },
  {
   "cell_type": "code",
   "execution_count": 12,
   "metadata": {},
   "outputs": [
    {
     "data": {
      "text/plain": [
       "(38, 3)"
      ]
     },
     "execution_count": 12,
     "metadata": {},
     "output_type": "execute_result"
    }
   ],
   "source": [
    "results.shape"
   ]
  },
  {
   "cell_type": "code",
   "execution_count": 13,
   "metadata": {},
   "outputs": [],
   "source": [
    "class AprioriModel:\n",
    "    def __init__(self):\n",
    "        self.model = {}\n",
    "    \n",
    "    def transform_results_to_dict(self, results):\n",
    "        kv = {}\n",
    "        for i in range(0, results.shape[0]):\n",
    "            key = list(results.ordered_statistics[i][0].items_base)[0]\n",
    "            value = { 'add': list(results.ordered_statistics[i][0].items_add)[0], 'conf': results.ordered_statistics[i][0].confidence }\n",
    "            if  key not in kv:\n",
    "                value = [value]\n",
    "                kv[key] = value\n",
    "            else:\n",
    "                kv[key].append(value)\n",
    "        return kv\n",
    "    \n",
    "    def train(self, transactions):\n",
    "        rules = apriori(transactions, min_support = 0.01, min_confidence = 0.2, min_lift = 2, min_length = 2)\n",
    "        results = list(rules)\n",
    "        results = pd.DataFrame(results)\n",
    "        \n",
    "        self.model = self.transform_results_to_dict(results)\n",
    "    \n",
    "    def get_recommendations(self, items):\n",
    "        results = []\n",
    "        for item in items:\n",
    "            rules = self.model.get(item)\n",
    "            max_conf = 0\n",
    "            best_rule = None\n",
    "            \n",
    "            if rules:\n",
    "                for rule in rules:\n",
    "                    if rule.get('conf', 0) > max_conf:\n",
    "                        best_rule = rule\n",
    "                        max_conf = rule.get('conf')\n",
    "\n",
    "                results.append(best_rule)\n",
    "\n",
    "        return results\n",
    "                \n"
   ]
  },
  {
   "cell_type": "markdown",
   "metadata": {},
   "source": [
    "# Deployment\n",
    "\n",
    "To deploy this model we will create a cronjob that will build this models in batches for every active user and save the rules in our MongoDB database. Which can further be accessed from our API that will deliver the final recommendation responses when the user tries to edit a current open order."
   ]
  },
  {
   "cell_type": "code",
   "execution_count": 16,
   "metadata": {},
   "outputs": [
    {
     "data": {
      "text/plain": [
       "[{'add': 'gin tônica', 'conf': 0.3137254901960784},\n",
       " {'add': 'água mineral com gás natural prata 300ml',\n",
       "  'conf': 0.28571428571428575}]"
      ]
     },
     "execution_count": 16,
     "metadata": {},
     "output_type": "execute_result"
    }
   ],
   "source": [
    "# get active users\n",
    "# ...\n",
    "\n",
    "# for every active user do:\n",
    "colchetesId = ObjectId('5fd604714afe55001cfe1ec6')\n",
    "sales = pd.DataFrame(list(db.orders.find({ 'company': colchetesId, 'status': 'closed' }, { 'items': 1 })))\n",
    "transactions = transform_items_to_transactions(sales)\n",
    "\n",
    "model = AprioriModel()\n",
    "model.train(transactions)\n",
    "model.get_recommendations(['aperol', 'baiao executivo'])"
   ]
  },
  {
   "cell_type": "markdown",
   "metadata": {},
   "source": [
    "**You can check this commit** to see the necessary changes to deploy this model in the platform: https://github.com/somosmee/mee/commit/eb183a2ce97098b9ff358732433e61a01b79fa39"
   ]
  },
  {
   "cell_type": "markdown",
   "metadata": {},
   "source": [
    "## Results and Report"
   ]
  },
  {
   "cell_type": "markdown",
   "metadata": {},
   "source": [
    "In the gif below you can see the final product using the suggestions given by the rules we got from our **Association Analysis model** 🎉\n",
    "\n",
    "**Translation:**\n",
    "\n",
    "Chopp = Draft Beer\n",
    "\n",
    "Costela = Ribs\n",
    "\n",
    "The following steps are happening:\n",
    "\n",
    "1. We check that our current order have only a draft beer\n",
    "2. We click the edit button to add more items from customer request\n",
    "3. A list of suggestions popup given Ribs with 24.36% of confidence in the recommendation\n",
    "4. We select the recommendation and save it\n"
   ]
  },
  {
   "cell_type": "markdown",
   "metadata": {},
   "source": [
    "![SegmentLocal](suggestions.gif \"segment\")"
   ]
  },
  {
   "cell_type": "markdown",
   "metadata": {},
   "source": [
    "I pushed this change in a separate beta branch so we could test and validate with a close client.\n",
    "\n",
    "I left this experiment for a complete week and we got a **12% increase in the average ticket** and **23% decrease on attedance time**\n",
    "\n",
    "Both metrics were calculate based on the average of the previous month where this change wasn't in place.\n",
    "\n",
    "**Conclusions**\n",
    "\n",
    "- **Attendance time** was calculate with the time the attendants took to edit and add new items to current open orders. We could see a significant improvement with this suggestions acting like a **smart cache** and allowing attendants to **not having to type and search so often**.\n",
    "- I determined that the **average ticket increase** was a result of this change after talking to attendants and realizing they were using this suggestions to recommend products to customers which resulted in more items being added."
   ]
  },
  {
   "cell_type": "markdown",
   "metadata": {},
   "source": [
    "![alt text](average-ticket.png \"Title\")"
   ]
  }
 ],
 "metadata": {
  "kernelspec": {
   "display_name": "Python 3",
   "language": "python",
   "name": "python3"
  },
  "language_info": {
   "codemirror_mode": {
    "name": "ipython",
    "version": 3
   },
   "file_extension": ".py",
   "mimetype": "text/x-python",
   "name": "python",
   "nbconvert_exporter": "python",
   "pygments_lexer": "ipython3",
   "version": "3.6.10"
  }
 },
 "nbformat": 4,
 "nbformat_minor": 4
}
