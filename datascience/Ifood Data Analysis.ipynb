{
 "cells": [
  {
   "cell_type": "code",
   "execution_count": 2,
   "metadata": {},
   "outputs": [],
   "source": [
    "import json, os\n",
    "import pandas as pd\n",
    "import seaborn as sns\n",
    "import matplotlib"
   ]
  },
  {
   "cell_type": "code",
   "execution_count": 2,
   "metadata": {},
   "outputs": [
    {
     "data": {
      "text/plain": [
       "8711"
      ]
     },
     "execution_count": 2,
     "metadata": {},
     "output_type": "execute_result"
    }
   ],
   "source": [
    "files = os.listdir()\n",
    "data = []\n",
    "for file in files:\n",
    "    if  'ifood-' in file:\n",
    "        json_file = open(file)\n",
    "        data = data + json.load(json_file)\n",
    "len(data)"
   ]
  },
  {
   "cell_type": "code",
   "execution_count": 3,
   "metadata": {},
   "outputs": [],
   "source": [
    "df = pd.DataFrame.from_records(data)"
   ]
  },
  {
   "cell_type": "code",
   "execution_count": 4,
   "metadata": {},
   "outputs": [
    {
     "data": {
      "text/html": [
       "<div>\n",
       "<style scoped>\n",
       "    .dataframe tbody tr th:only-of-type {\n",
       "        vertical-align: middle;\n",
       "    }\n",
       "\n",
       "    .dataframe tbody tr th {\n",
       "        vertical-align: top;\n",
       "    }\n",
       "\n",
       "    .dataframe thead th {\n",
       "        text-align: right;\n",
       "    }\n",
       "</style>\n",
       "<table border=\"1\" class=\"dataframe\">\n",
       "  <thead>\n",
       "    <tr style=\"text-align: right;\">\n",
       "      <th></th>\n",
       "      <th>id</th>\n",
       "      <th>name</th>\n",
       "      <th>resources</th>\n",
       "      <th>slug</th>\n",
       "      <th>userRating</th>\n",
       "      <th>priceRange</th>\n",
       "      <th>mainCategory</th>\n",
       "      <th>features</th>\n",
       "      <th>tags</th>\n",
       "      <th>paymentCodes</th>\n",
       "      <th>...</th>\n",
       "      <th>supportsAnyTracking</th>\n",
       "      <th>supportsOwnDelivery</th>\n",
       "      <th>supportsOrderScheduling</th>\n",
       "      <th>config</th>\n",
       "      <th>channels</th>\n",
       "      <th>hasPromo</th>\n",
       "      <th>deliveryFeeInfo</th>\n",
       "      <th>superRestaurant</th>\n",
       "      <th>description</th>\n",
       "      <th>headerUrl</th>\n",
       "    </tr>\n",
       "  </thead>\n",
       "  <tbody>\n",
       "    <tr>\n",
       "      <th>0</th>\n",
       "      <td>c857b15e-7349-43c6-ad9b-d4b7f86ceb0d</td>\n",
       "      <td>Padaria Maraja</td>\n",
       "      <td>[{'type': 'LOGO', 'fileName': '201903251156_c8...</td>\n",
       "      <td>sao-paulo-sp/padaria-maraja-centro</td>\n",
       "      <td>4.74250</td>\n",
       "      <td>MODERATE</td>\n",
       "      <td>{'code': 'PA1', 'name': 'Padaria'}</td>\n",
       "      <td>[DELIVERY, TAKEOUT, SCHEDULING, TRACKING, TRAC...</td>\n",
       "      <td>[ABR20_LANCHE, ABR20_PASCOA_ALMOCO, ACOMPANHE_...</td>\n",
       "      <td>[DNR, MPAY, MOVPAY_MC, MC, ELOD, AM, MCMA, MOV...</td>\n",
       "      <td>...</td>\n",
       "      <td>NaN</td>\n",
       "      <td>NaN</td>\n",
       "      <td>NaN</td>\n",
       "      <td>NaN</td>\n",
       "      <td>NaN</td>\n",
       "      <td>NaN</td>\n",
       "      <td>NaN</td>\n",
       "      <td>NaN</td>\n",
       "      <td>NaN</td>\n",
       "      <td>NaN</td>\n",
       "    </tr>\n",
       "    <tr>\n",
       "      <th>1</th>\n",
       "      <td>4b37a365-d01d-464a-ad61-b1d7b5bb8057</td>\n",
       "      <td>Padaria União</td>\n",
       "      <td>[{'type': 'LOGO', 'fileName': '4b37a365-d01d-4...</td>\n",
       "      <td>sao-paulo-sp/padaria-uniao-jardim-sao-saverio</td>\n",
       "      <td>4.73810</td>\n",
       "      <td>CHEAPEST</td>\n",
       "      <td>{'code': 'PA1', 'name': 'Padaria'}</td>\n",
       "      <td>[DELIVERY, TAKEOUT, TRACKING, TRACEABLE, IMMED...</td>\n",
       "      <td>[NOVO]</td>\n",
       "      <td>[MPAY, ELOD]</td>\n",
       "      <td>...</td>\n",
       "      <td>NaN</td>\n",
       "      <td>NaN</td>\n",
       "      <td>NaN</td>\n",
       "      <td>NaN</td>\n",
       "      <td>NaN</td>\n",
       "      <td>NaN</td>\n",
       "      <td>NaN</td>\n",
       "      <td>NaN</td>\n",
       "      <td>NaN</td>\n",
       "      <td>NaN</td>\n",
       "    </tr>\n",
       "    <tr>\n",
       "      <th>2</th>\n",
       "      <td>72f28584-e76d-4ca4-a82f-6138d626560f</td>\n",
       "      <td>Splash Cafés e Bebidas Urbanas Paulista</td>\n",
       "      <td>[{'type': 'LOGO', 'fileName': '72f28584-e76d-4...</td>\n",
       "      <td>sao-paulo-sp/splash-cafes-e-bebidas-urbanas-pa...</td>\n",
       "      <td>4.73422</td>\n",
       "      <td>CHEAPEST</td>\n",
       "      <td>{'code': 'CA1', 'name': 'Cafeteria'}</td>\n",
       "      <td>[DELIVERY, TAKEOUT, SCHEDULING, TRACKING, TRAC...</td>\n",
       "      <td>[ACOMPANHE_PEDIDO_EM_ATIVACAO_AGO19, CAFE_DA_M...</td>\n",
       "      <td>[DNR, MPAY, MOVPAY_MC, MC, ELOD, AM, MCMA, MOV...</td>\n",
       "      <td>...</td>\n",
       "      <td>NaN</td>\n",
       "      <td>NaN</td>\n",
       "      <td>NaN</td>\n",
       "      <td>NaN</td>\n",
       "      <td>NaN</td>\n",
       "      <td>NaN</td>\n",
       "      <td>NaN</td>\n",
       "      <td>NaN</td>\n",
       "      <td>NaN</td>\n",
       "      <td>NaN</td>\n",
       "    </tr>\n",
       "    <tr>\n",
       "      <th>3</th>\n",
       "      <td>9d45db14-a741-44d9-84ff-c4af5aa17813</td>\n",
       "      <td>Pastel e Açaí da Simone</td>\n",
       "      <td>[{'type': 'LOGO', 'fileName': '201902121722_9d...</td>\n",
       "      <td>sao-paulo-sp/pastel-e-acai-da-simone-mooca</td>\n",
       "      <td>4.73130</td>\n",
       "      <td>CHEAPEST</td>\n",
       "      <td>{'code': 'PAS', 'name': 'Pastel'}</td>\n",
       "      <td>[DELIVERY, TAKEOUT, SCHEDULING, TRACKING, TRAC...</td>\n",
       "      <td>[ACOMPANHE_PEDIDO_EM_ATIVACAO_AGO19, CPGN_USER...</td>\n",
       "      <td>[DNR, MPAY, MOVPAY_MC, MC, ELOD, AM, MCMA, MOV...</td>\n",
       "      <td>...</td>\n",
       "      <td>NaN</td>\n",
       "      <td>NaN</td>\n",
       "      <td>NaN</td>\n",
       "      <td>NaN</td>\n",
       "      <td>NaN</td>\n",
       "      <td>NaN</td>\n",
       "      <td>NaN</td>\n",
       "      <td>NaN</td>\n",
       "      <td>NaN</td>\n",
       "      <td>NaN</td>\n",
       "    </tr>\n",
       "    <tr>\n",
       "      <th>4</th>\n",
       "      <td>4873d4af-f8d1-423c-a72a-99f5d39103f5</td>\n",
       "      <td>Nau Frutos do Mar</td>\n",
       "      <td>[{'type': 'LOGO', 'fileName': '202004141622_48...</td>\n",
       "      <td>sao-paulo-sp/nau-frutos-do-mar-itaim-bibi</td>\n",
       "      <td>4.73118</td>\n",
       "      <td>MOST_EXPENSIVE</td>\n",
       "      <td>{'code': 'FRU', 'name': 'Frutos Do Mar'}</td>\n",
       "      <td>[DELIVERY, TRACKING, TRACEABLE, IMMEDIATE_ORDER]</td>\n",
       "      <td>[CONTA_ESTRATEGICA, REST_ACABARAM_CHEGAR]</td>\n",
       "      <td>[DNR, MPAY, MOVPAY_MC, MC, ELOD, AM, MCMA, MOV...</td>\n",
       "      <td>...</td>\n",
       "      <td>NaN</td>\n",
       "      <td>NaN</td>\n",
       "      <td>NaN</td>\n",
       "      <td>NaN</td>\n",
       "      <td>NaN</td>\n",
       "      <td>NaN</td>\n",
       "      <td>NaN</td>\n",
       "      <td>NaN</td>\n",
       "      <td>NaN</td>\n",
       "      <td>NaN</td>\n",
       "    </tr>\n",
       "  </tbody>\n",
       "</table>\n",
       "<p>5 rows × 59 columns</p>\n",
       "</div>"
      ],
      "text/plain": [
       "                                     id  \\\n",
       "0  c857b15e-7349-43c6-ad9b-d4b7f86ceb0d   \n",
       "1  4b37a365-d01d-464a-ad61-b1d7b5bb8057   \n",
       "2  72f28584-e76d-4ca4-a82f-6138d626560f   \n",
       "3  9d45db14-a741-44d9-84ff-c4af5aa17813   \n",
       "4  4873d4af-f8d1-423c-a72a-99f5d39103f5   \n",
       "\n",
       "                                      name  \\\n",
       "0                           Padaria Maraja   \n",
       "1                            Padaria União   \n",
       "2  Splash Cafés e Bebidas Urbanas Paulista   \n",
       "3                  Pastel e Açaí da Simone   \n",
       "4                        Nau Frutos do Mar   \n",
       "\n",
       "                                           resources  \\\n",
       "0  [{'type': 'LOGO', 'fileName': '201903251156_c8...   \n",
       "1  [{'type': 'LOGO', 'fileName': '4b37a365-d01d-4...   \n",
       "2  [{'type': 'LOGO', 'fileName': '72f28584-e76d-4...   \n",
       "3  [{'type': 'LOGO', 'fileName': '201902121722_9d...   \n",
       "4  [{'type': 'LOGO', 'fileName': '202004141622_48...   \n",
       "\n",
       "                                                slug  userRating  \\\n",
       "0                 sao-paulo-sp/padaria-maraja-centro     4.74250   \n",
       "1      sao-paulo-sp/padaria-uniao-jardim-sao-saverio     4.73810   \n",
       "2  sao-paulo-sp/splash-cafes-e-bebidas-urbanas-pa...     4.73422   \n",
       "3         sao-paulo-sp/pastel-e-acai-da-simone-mooca     4.73130   \n",
       "4          sao-paulo-sp/nau-frutos-do-mar-itaim-bibi     4.73118   \n",
       "\n",
       "       priceRange                              mainCategory  \\\n",
       "0        MODERATE        {'code': 'PA1', 'name': 'Padaria'}   \n",
       "1        CHEAPEST        {'code': 'PA1', 'name': 'Padaria'}   \n",
       "2        CHEAPEST      {'code': 'CA1', 'name': 'Cafeteria'}   \n",
       "3        CHEAPEST         {'code': 'PAS', 'name': 'Pastel'}   \n",
       "4  MOST_EXPENSIVE  {'code': 'FRU', 'name': 'Frutos Do Mar'}   \n",
       "\n",
       "                                            features  \\\n",
       "0  [DELIVERY, TAKEOUT, SCHEDULING, TRACKING, TRAC...   \n",
       "1  [DELIVERY, TAKEOUT, TRACKING, TRACEABLE, IMMED...   \n",
       "2  [DELIVERY, TAKEOUT, SCHEDULING, TRACKING, TRAC...   \n",
       "3  [DELIVERY, TAKEOUT, SCHEDULING, TRACKING, TRAC...   \n",
       "4   [DELIVERY, TRACKING, TRACEABLE, IMMEDIATE_ORDER]   \n",
       "\n",
       "                                                tags  \\\n",
       "0  [ABR20_LANCHE, ABR20_PASCOA_ALMOCO, ACOMPANHE_...   \n",
       "1                                             [NOVO]   \n",
       "2  [ACOMPANHE_PEDIDO_EM_ATIVACAO_AGO19, CAFE_DA_M...   \n",
       "3  [ACOMPANHE_PEDIDO_EM_ATIVACAO_AGO19, CPGN_USER...   \n",
       "4          [CONTA_ESTRATEGICA, REST_ACABARAM_CHEGAR]   \n",
       "\n",
       "                                        paymentCodes  ...  \\\n",
       "0  [DNR, MPAY, MOVPAY_MC, MC, ELOD, AM, MCMA, MOV...  ...   \n",
       "1                                       [MPAY, ELOD]  ...   \n",
       "2  [DNR, MPAY, MOVPAY_MC, MC, ELOD, AM, MCMA, MOV...  ...   \n",
       "3  [DNR, MPAY, MOVPAY_MC, MC, ELOD, AM, MCMA, MOV...  ...   \n",
       "4  [DNR, MPAY, MOVPAY_MC, MC, ELOD, AM, MCMA, MOV...  ...   \n",
       "\n",
       "   supportsAnyTracking supportsOwnDelivery  supportsOrderScheduling  config  \\\n",
       "0                  NaN                 NaN                      NaN     NaN   \n",
       "1                  NaN                 NaN                      NaN     NaN   \n",
       "2                  NaN                 NaN                      NaN     NaN   \n",
       "3                  NaN                 NaN                      NaN     NaN   \n",
       "4                  NaN                 NaN                      NaN     NaN   \n",
       "\n",
       "  channels  hasPromo  deliveryFeeInfo superRestaurant description headerUrl  \n",
       "0      NaN       NaN              NaN             NaN         NaN       NaN  \n",
       "1      NaN       NaN              NaN             NaN         NaN       NaN  \n",
       "2      NaN       NaN              NaN             NaN         NaN       NaN  \n",
       "3      NaN       NaN              NaN             NaN         NaN       NaN  \n",
       "4      NaN       NaN              NaN             NaN         NaN       NaN  \n",
       "\n",
       "[5 rows x 59 columns]"
      ]
     },
     "execution_count": 4,
     "metadata": {},
     "output_type": "execute_result"
    }
   ],
   "source": [
    "df.head()"
   ]
  },
  {
   "cell_type": "code",
   "execution_count": 8,
   "metadata": {},
   "outputs": [
    {
     "name": "stdout",
     "output_type": "stream",
     "text": [
      "<class 'pandas.core.frame.DataFrame'>\n",
      "RangeIndex: 8711 entries, 0 to 8710\n",
      "Data columns (total 59 columns):\n",
      " #   Column                   Non-Null Count  Dtype  \n",
      "---  ------                   --------------  -----  \n",
      " 0   id                       8711 non-null   object \n",
      " 1   name                     8711 non-null   object \n",
      " 2   resources                8611 non-null   object \n",
      " 3   slug                     8611 non-null   object \n",
      " 4   userRating               8611 non-null   float64\n",
      " 5   priceRange               8711 non-null   object \n",
      " 6   mainCategory             8611 non-null   object \n",
      " 7   features                 8611 non-null   object \n",
      " 8   tags                     8711 non-null   object \n",
      " 9   paymentCodes             8611 non-null   object \n",
      " 10  minimumOrderValue        8574 non-null   float64\n",
      " 11  deliveryFee              8711 non-null   object \n",
      " 12  deliveryTime             8711 non-null   int64  \n",
      " 13  distance                 8711 non-null   float64\n",
      " 14  available                8611 non-null   object \n",
      " 15  takeoutTime              8711 non-null   int64  \n",
      " 16  preparationTime          8064 non-null   float64\n",
      " 17  deliveryMethods          8611 non-null   object \n",
      " 18  details                  8711 non-null   object \n",
      " 19  menu                     8711 non-null   object \n",
      " 20  extra                    8711 non-null   object \n",
      " 21  merchantChain            1016 non-null   object \n",
      " 22  availableForScheduling   7649 non-null   object \n",
      " 23  restaurantId             100 non-null    float64\n",
      " 24  uuid                     100 non-null    object \n",
      " 25  companyGroup             100 non-null    object \n",
      " 26  shortDescription         100 non-null    object \n",
      " 27  logoUrl                  91 non-null     object \n",
      " 28  siteUrl                  100 non-null    object \n",
      " 29  recent                   100 non-null    object \n",
      " 30  groupId                  100 non-null    float64\n",
      " 31  acceptMoneyPayment       100 non-null    object \n",
      " 32  mainCuisineCode          100 non-null    object \n",
      " 33  address                  100 non-null    object \n",
      " 34  timezone                 100 non-null    object \n",
      " 35  locale                   100 non-null    object \n",
      " 36  openingHours             89 non-null     object \n",
      " 37  enabled                  100 non-null    object \n",
      " 38  offline                  100 non-null    object \n",
      " 39  closed                   100 non-null    object \n",
      " 40  score                    100 non-null    float64\n",
      " 41  evaluation               100 non-null    float64\n",
      " 42  evaluationAverage        100 non-null    float64\n",
      " 43  avgPrice                 100 non-null    float64\n",
      " 44  mainFoodType             100 non-null    object \n",
      " 45  supportsDelivery         100 non-null    object \n",
      " 46  supportsTogo             100 non-null    object \n",
      " 47  supportsSchedule         100 non-null    object \n",
      " 48  supportsOrderTracking    100 non-null    object \n",
      " 49  supportsAnyTracking      100 non-null    object \n",
      " 50  supportsOwnDelivery      100 non-null    object \n",
      " 51  supportsOrderScheduling  100 non-null    object \n",
      " 52  config                   100 non-null    object \n",
      " 53  channels                 100 non-null    object \n",
      " 54  hasPromo                 100 non-null    object \n",
      " 55  deliveryFeeInfo          100 non-null    object \n",
      " 56  superRestaurant          100 non-null    object \n",
      " 57  description              63 non-null     object \n",
      " 58  headerUrl                22 non-null     object \n",
      "dtypes: float64(10), int64(2), object(47)\n",
      "memory usage: 3.9+ MB\n"
     ]
    }
   ],
   "source": [
    "df.info()"
   ]
  },
  {
   "cell_type": "markdown",
   "metadata": {},
   "source": [
    "## Is there a correlation between userRating and menu"
   ]
  },
  {
   "cell_type": "code",
   "execution_count": 13,
   "metadata": {},
   "outputs": [],
   "source": [
    "attrs = [\n",
    "    ('id', 'merchantId'),\n",
    "    ('name', 'merchantName'),\n",
    "    ('userRating', 'userRating'),\n",
    "    ('mainCategory', 'mainCategory'),\n",
    "    ('priceRange', 'priceRange'),\n",
    "    ('features', 'features'),\n",
    "    ('tags', 'tags'),\n",
    "    ('merchantChain', 'merchantChain'),\n",
    "    ('mainCuisineCode', 'mainCuisineCode'),\n",
    "    ('evaluation', 'evaluation'),\n",
    "    ('evaluationAverage', 'evaluationAverage'),\n",
    "    ('avgPrice', 'avgPrice'),\n",
    "    ('mainFoodType', 'mainFoodType'),\n",
    "    ('superRestaurant', 'superRestaurant')\n",
    "]"
   ]
  },
  {
   "cell_type": "code",
   "execution_count": 56,
   "metadata": {},
   "outputs": [],
   "source": [
    "menus = []\n",
    "\n",
    "for index, row in df.iterrows():\n",
    "    menu = pd.DataFrame(row.menu)\n",
    "    for attr in attrs:\n",
    "        if type(row[attr[0]]) is dict or type(row[attr[0]]) is list:\n",
    "            menu[attr[1]] = [row[attr[0]]] * menu.shape[0]\n",
    "        else:\n",
    "            menu[attr[1]] = row[attr[0]]\n",
    "    menus.append(menu)\n",
    "\n",
    "menuDf = pd.concat(menus, ignore_index=True)"
   ]
  },
  {
   "cell_type": "code",
   "execution_count": 57,
   "metadata": {},
   "outputs": [
    {
     "name": "stdout",
     "output_type": "stream",
     "text": [
      "<class 'pandas.core.frame.DataFrame'>\n",
      "RangeIndex: 63384 entries, 0 to 63383\n",
      "Data columns (total 22 columns):\n",
      " #   Column             Non-Null Count  Dtype  \n",
      "---  ------             --------------  -----  \n",
      " 0   id                 63008 non-null  object \n",
      " 1   code               63384 non-null  object \n",
      " 2   name               63384 non-null  object \n",
      " 3   order              63384 non-null  float64\n",
      " 4   availability       63008 non-null  object \n",
      " 5   enabled            63384 non-null  object \n",
      " 6   template           63015 non-null  object \n",
      " 7   itens              63384 non-null  object \n",
      " 8   merchantId         63384 non-null  object \n",
      " 9   merchantName       63384 non-null  object \n",
      " 10  userRating         63008 non-null  float64\n",
      " 11  mainCategory       63008 non-null  object \n",
      " 12  priceRange         63384 non-null  object \n",
      " 13  features           63008 non-null  object \n",
      " 14  tags               63384 non-null  object \n",
      " 15  merchantChain      10590 non-null  object \n",
      " 16  mainCuisineCode    376 non-null    object \n",
      " 17  evaluation         376 non-null    float64\n",
      " 18  evaluationAverage  376 non-null    float64\n",
      " 19  avgPrice           376 non-null    float64\n",
      " 20  mainFoodType       376 non-null    object \n",
      " 21  superRestaurant    376 non-null    float64\n",
      "dtypes: float64(6), object(16)\n",
      "memory usage: 10.6+ MB\n"
     ]
    }
   ],
   "source": [
    "menuDf.info()"
   ]
  },
  {
   "cell_type": "code",
   "execution_count": 58,
   "metadata": {},
   "outputs": [
    {
     "data": {
      "text/html": [
       "<div>\n",
       "<style scoped>\n",
       "    .dataframe tbody tr th:only-of-type {\n",
       "        vertical-align: middle;\n",
       "    }\n",
       "\n",
       "    .dataframe tbody tr th {\n",
       "        vertical-align: top;\n",
       "    }\n",
       "\n",
       "    .dataframe thead th {\n",
       "        text-align: right;\n",
       "    }\n",
       "</style>\n",
       "<table border=\"1\" class=\"dataframe\">\n",
       "  <thead>\n",
       "    <tr style=\"text-align: right;\">\n",
       "      <th></th>\n",
       "      <th>merchantId</th>\n",
       "      <th>merchantName</th>\n",
       "      <th>userRating</th>\n",
       "      <th>name</th>\n",
       "      <th>itens</th>\n",
       "    </tr>\n",
       "  </thead>\n",
       "  <tbody>\n",
       "    <tr>\n",
       "      <th>0</th>\n",
       "      <td>c857b15e-7349-43c6-ad9b-d4b7f86ceb0d</td>\n",
       "      <td>Padaria Maraja</td>\n",
       "      <td>4.7425</td>\n",
       "      <td>Promoção sopa com vinho</td>\n",
       "      <td>[{'id': 'f0c0a6c3-3397-47bf-9069-3e414e897182'...</td>\n",
       "    </tr>\n",
       "    <tr>\n",
       "      <th>1</th>\n",
       "      <td>c857b15e-7349-43c6-ad9b-d4b7f86ceb0d</td>\n",
       "      <td>Padaria Maraja</td>\n",
       "      <td>4.7425</td>\n",
       "      <td>Promoção de cervejas - 600ml</td>\n",
       "      <td>[{'id': 'ce6568c5-ee92-4ff5-8c30-01932e66e039'...</td>\n",
       "    </tr>\n",
       "    <tr>\n",
       "      <th>2</th>\n",
       "      <td>c857b15e-7349-43c6-ad9b-d4b7f86ceb0d</td>\n",
       "      <td>Padaria Maraja</td>\n",
       "      <td>4.7425</td>\n",
       "      <td>Combinado de café da manhã</td>\n",
       "      <td>[{'id': 'f4a9e3a5-413c-4510-9880-95ff468122ab'...</td>\n",
       "    </tr>\n",
       "    <tr>\n",
       "      <th>3</th>\n",
       "      <td>c857b15e-7349-43c6-ad9b-d4b7f86ceb0d</td>\n",
       "      <td>Padaria Maraja</td>\n",
       "      <td>4.7425</td>\n",
       "      <td>Promoção marajá - 15% a 20% de desconto</td>\n",
       "      <td>[{'id': 'c9184461-08ba-4a93-8e4f-6f6c1660f33d'...</td>\n",
       "    </tr>\n",
       "    <tr>\n",
       "      <th>4</th>\n",
       "      <td>c857b15e-7349-43c6-ad9b-d4b7f86ceb0d</td>\n",
       "      <td>Padaria Maraja</td>\n",
       "      <td>4.7425</td>\n",
       "      <td>Ofertas para novos clientes</td>\n",
       "      <td>[{'id': '15588870-d30e-4dd3-bb50-7a45b15f1fb0'...</td>\n",
       "    </tr>\n",
       "  </tbody>\n",
       "</table>\n",
       "</div>"
      ],
      "text/plain": [
       "                             merchantId    merchantName  userRating  \\\n",
       "0  c857b15e-7349-43c6-ad9b-d4b7f86ceb0d  Padaria Maraja      4.7425   \n",
       "1  c857b15e-7349-43c6-ad9b-d4b7f86ceb0d  Padaria Maraja      4.7425   \n",
       "2  c857b15e-7349-43c6-ad9b-d4b7f86ceb0d  Padaria Maraja      4.7425   \n",
       "3  c857b15e-7349-43c6-ad9b-d4b7f86ceb0d  Padaria Maraja      4.7425   \n",
       "4  c857b15e-7349-43c6-ad9b-d4b7f86ceb0d  Padaria Maraja      4.7425   \n",
       "\n",
       "                                      name  \\\n",
       "0                  Promoção sopa com vinho   \n",
       "1             Promoção de cervejas - 600ml   \n",
       "2               Combinado de café da manhã   \n",
       "3  Promoção marajá - 15% a 20% de desconto   \n",
       "4              Ofertas para novos clientes   \n",
       "\n",
       "                                               itens  \n",
       "0  [{'id': 'f0c0a6c3-3397-47bf-9069-3e414e897182'...  \n",
       "1  [{'id': 'ce6568c5-ee92-4ff5-8c30-01932e66e039'...  \n",
       "2  [{'id': 'f4a9e3a5-413c-4510-9880-95ff468122ab'...  \n",
       "3  [{'id': 'c9184461-08ba-4a93-8e4f-6f6c1660f33d'...  \n",
       "4  [{'id': '15588870-d30e-4dd3-bb50-7a45b15f1fb0'...  "
      ]
     },
     "execution_count": 58,
     "metadata": {},
     "output_type": "execute_result"
    }
   ],
   "source": [
    "menuDf[['merchantId', 'merchantName', 'userRating', 'name', 'itens']].head()"
   ]
  },
  {
   "cell_type": "code",
   "execution_count": 59,
   "metadata": {},
   "outputs": [],
   "source": [
    "itensData = []\n",
    "\n",
    "for index, row in menuDf.iterrows():\n",
    "    itens = pd.DataFrame(row.itens)\n",
    "    itens['menuId'] = row['id']\n",
    "    itens['menuCode'] = row['code']\n",
    "    itens['menuName'] = row['name']\n",
    "    for attr in attrs:\n",
    "        if type(row[attr[1]]) is dict or type(row[attr[1]]) is list:\n",
    "            itens[attr[1]] = [row[attr[1]]] * itens.shape[0]\n",
    "        else:\n",
    "            itens[attr[1]] = row[attr[1]]\n",
    "    itensData.append(itens)\n",
    "\n",
    "menuItensDf = pd.concat(itensData, ignore_index=True)"
   ]
  },
  {
   "cell_type": "code",
   "execution_count": 60,
   "metadata": {},
   "outputs": [
    {
     "name": "stdout",
     "output_type": "stream",
     "text": [
      "<class 'pandas.core.frame.DataFrame'>\n",
      "RangeIndex: 632113 entries, 0 to 632112\n",
      "Data columns (total 37 columns):\n",
      " #   Column             Non-Null Count   Dtype  \n",
      "---  ------             --------------   -----  \n",
      " 0   id                 632113 non-null  object \n",
      " 1   code               632113 non-null  object \n",
      " 2   description        632113 non-null  object \n",
      " 3   logoUrl            473871 non-null  object \n",
      " 4   details            622965 non-null  object \n",
      " 5   taxonomyName       372025 non-null  object \n",
      " 6   taxonomyScore      583936 non-null  float64\n",
      " 7   needChoices        632113 non-null  object \n",
      " 8   unitPrice          632113 non-null  float64\n",
      " 9   unitOriginalPrice  64571 non-null   float64\n",
      " 10  order              632113 non-null  float64\n",
      " 11  availability       632113 non-null  object \n",
      " 12  enabled            632113 non-null  object \n",
      " 13  openingHours       632113 non-null  object \n",
      " 14  tags               632113 non-null  object \n",
      " 15  operationModes     630787 non-null  object \n",
      " 16  choices            598187 non-null  object \n",
      " 17  unitMinPrice       600011 non-null  float64\n",
      " 18  menuId             629897 non-null  object \n",
      " 19  menuCode           632113 non-null  object \n",
      " 20  menuName           632113 non-null  object \n",
      " 21  merchantId         632113 non-null  object \n",
      " 22  merchantName       632113 non-null  object \n",
      " 23  userRating         629897 non-null  float64\n",
      " 24  mainCategory       629897 non-null  object \n",
      " 25  priceRange         632113 non-null  object \n",
      " 26  features           629897 non-null  object \n",
      " 27  merchantChain      196167 non-null  object \n",
      " 28  mainCuisineCode    2216 non-null    object \n",
      " 29  evaluation         2216 non-null    float64\n",
      " 30  evaluationAverage  2216 non-null    float64\n",
      " 31  avgPrice           2216 non-null    float64\n",
      " 32  mainFoodType       2216 non-null    object \n",
      " 33  superRestaurant    2216 non-null    float64\n",
      " 34  posCode            301264 non-null  object \n",
      " 35  ean                16169 non-null   object \n",
      " 36  discoveryTags      2216 non-null    object \n",
      "dtypes: float64(10), object(27)\n",
      "memory usage: 178.4+ MB\n"
     ]
    }
   ],
   "source": [
    "menuItensDf.info()"
   ]
  },
  {
   "cell_type": "code",
   "execution_count": 61,
   "metadata": {},
   "outputs": [
    {
     "data": {
      "text/html": [
       "<div>\n",
       "<style scoped>\n",
       "    .dataframe tbody tr th:only-of-type {\n",
       "        vertical-align: middle;\n",
       "    }\n",
       "\n",
       "    .dataframe tbody tr th {\n",
       "        vertical-align: top;\n",
       "    }\n",
       "\n",
       "    .dataframe thead th {\n",
       "        text-align: right;\n",
       "    }\n",
       "</style>\n",
       "<table border=\"1\" class=\"dataframe\">\n",
       "  <thead>\n",
       "    <tr style=\"text-align: right;\">\n",
       "      <th></th>\n",
       "      <th>merchantId</th>\n",
       "      <th>merchantName</th>\n",
       "      <th>userRating</th>\n",
       "      <th>menuId</th>\n",
       "      <th>menuName</th>\n",
       "      <th>description</th>\n",
       "    </tr>\n",
       "  </thead>\n",
       "  <tbody>\n",
       "    <tr>\n",
       "      <th>0</th>\n",
       "      <td>c857b15e-7349-43c6-ad9b-d4b7f86ceb0d</td>\n",
       "      <td>Padaria Maraja</td>\n",
       "      <td>4.7425</td>\n",
       "      <td>5d3ae77d-3c30-4372-9aae-0303f27324dd</td>\n",
       "      <td>Promoção sopa com vinho</td>\n",
       "      <td>Monsaraz Alentejo Tinto - 750ml + Sopa para 2 ...</td>\n",
       "    </tr>\n",
       "    <tr>\n",
       "      <th>1</th>\n",
       "      <td>c857b15e-7349-43c6-ad9b-d4b7f86ceb0d</td>\n",
       "      <td>Padaria Maraja</td>\n",
       "      <td>4.7425</td>\n",
       "      <td>5d3ae77d-3c30-4372-9aae-0303f27324dd</td>\n",
       "      <td>Promoção sopa com vinho</td>\n",
       "      <td>Fran Nieto Senetiner Chardonnay - 750ml + Sopa...</td>\n",
       "    </tr>\n",
       "    <tr>\n",
       "      <th>2</th>\n",
       "      <td>c857b15e-7349-43c6-ad9b-d4b7f86ceb0d</td>\n",
       "      <td>Padaria Maraja</td>\n",
       "      <td>4.7425</td>\n",
       "      <td>5d3ae77d-3c30-4372-9aae-0303f27324dd</td>\n",
       "      <td>Promoção sopa com vinho</td>\n",
       "      <td>Antares Sauvignon Blanc - 750ml + Sopa para 2 ...</td>\n",
       "    </tr>\n",
       "    <tr>\n",
       "      <th>3</th>\n",
       "      <td>c857b15e-7349-43c6-ad9b-d4b7f86ceb0d</td>\n",
       "      <td>Padaria Maraja</td>\n",
       "      <td>4.7425</td>\n",
       "      <td>5d3ae77d-3c30-4372-9aae-0303f27324dd</td>\n",
       "      <td>Promoção sopa com vinho</td>\n",
       "      <td>Santa Carolina Reservado Rosé - 750ml + Sopa p...</td>\n",
       "    </tr>\n",
       "    <tr>\n",
       "      <th>4</th>\n",
       "      <td>c857b15e-7349-43c6-ad9b-d4b7f86ceb0d</td>\n",
       "      <td>Padaria Maraja</td>\n",
       "      <td>4.7425</td>\n",
       "      <td>0e690b0e-a4ac-4c32-a2ae-55fe737a3e8f</td>\n",
       "      <td>Promoção de cervejas - 600ml</td>\n",
       "      <td>SUPER PROMOÇÃO CERVEJAS - PEÇA 2 E GANHE 1 (60...</td>\n",
       "    </tr>\n",
       "  </tbody>\n",
       "</table>\n",
       "</div>"
      ],
      "text/plain": [
       "                             merchantId    merchantName  userRating  \\\n",
       "0  c857b15e-7349-43c6-ad9b-d4b7f86ceb0d  Padaria Maraja      4.7425   \n",
       "1  c857b15e-7349-43c6-ad9b-d4b7f86ceb0d  Padaria Maraja      4.7425   \n",
       "2  c857b15e-7349-43c6-ad9b-d4b7f86ceb0d  Padaria Maraja      4.7425   \n",
       "3  c857b15e-7349-43c6-ad9b-d4b7f86ceb0d  Padaria Maraja      4.7425   \n",
       "4  c857b15e-7349-43c6-ad9b-d4b7f86ceb0d  Padaria Maraja      4.7425   \n",
       "\n",
       "                                 menuId                      menuName  \\\n",
       "0  5d3ae77d-3c30-4372-9aae-0303f27324dd       Promoção sopa com vinho   \n",
       "1  5d3ae77d-3c30-4372-9aae-0303f27324dd       Promoção sopa com vinho   \n",
       "2  5d3ae77d-3c30-4372-9aae-0303f27324dd       Promoção sopa com vinho   \n",
       "3  5d3ae77d-3c30-4372-9aae-0303f27324dd       Promoção sopa com vinho   \n",
       "4  0e690b0e-a4ac-4c32-a2ae-55fe737a3e8f  Promoção de cervejas - 600ml   \n",
       "\n",
       "                                         description  \n",
       "0  Monsaraz Alentejo Tinto - 750ml + Sopa para 2 ...  \n",
       "1  Fran Nieto Senetiner Chardonnay - 750ml + Sopa...  \n",
       "2  Antares Sauvignon Blanc - 750ml + Sopa para 2 ...  \n",
       "3  Santa Carolina Reservado Rosé - 750ml + Sopa p...  \n",
       "4  SUPER PROMOÇÃO CERVEJAS - PEÇA 2 E GANHE 1 (60...  "
      ]
     },
     "execution_count": 61,
     "metadata": {},
     "output_type": "execute_result"
    }
   ],
   "source": [
    "menuItensDf[['merchantId', 'merchantName', 'userRating', 'menuId', 'menuName', 'description']].head()"
   ]
  },
  {
   "cell_type": "code",
   "execution_count": 62,
   "metadata": {},
   "outputs": [
    {
     "data": {
      "text/plain": [
       "(632113, 37)"
      ]
     },
     "execution_count": 62,
     "metadata": {},
     "output_type": "execute_result"
    }
   ],
   "source": [
    "menuItensDf.shape"
   ]
  },
  {
   "cell_type": "code",
   "execution_count": 63,
   "metadata": {},
   "outputs": [],
   "source": [
    "# save dataframe for futher analysis\n",
    "df.to_json(\"./df.json\")\n",
    "menuDf.to_json(\"./menuDf.json\")\n",
    "menuItensDf.to_json(\"./menuItensDf.json\")"
   ]
  },
  {
   "cell_type": "code",
   "execution_count": 42,
   "metadata": {},
   "outputs": [
    {
     "name": "stdout",
     "output_type": "stream",
     "text": [
      "<class 'pandas.core.frame.DataFrame'>\n",
      "Int64Index: 632113 entries, 0 to 632112\n",
      "Data columns (total 37 columns):\n",
      " #   Column             Non-Null Count   Dtype  \n",
      "---  ------             --------------   -----  \n",
      " 0   id                 632113 non-null  object \n",
      " 1   code               632113 non-null  object \n",
      " 2   description        632113 non-null  object \n",
      " 3   logoUrl            473871 non-null  object \n",
      " 4   details            622965 non-null  object \n",
      " 5   taxonomyName       372025 non-null  object \n",
      " 6   taxonomyScore      583936 non-null  float64\n",
      " 7   needChoices        632113 non-null  bool   \n",
      " 8   unitPrice          632113 non-null  float64\n",
      " 9   unitOriginalPrice  64571 non-null   float64\n",
      " 10  order              632113 non-null  int64  \n",
      " 11  availability       632113 non-null  object \n",
      " 12  enabled            632113 non-null  bool   \n",
      " 13  openingHours       632113 non-null  object \n",
      " 14  tags               632113 non-null  object \n",
      " 15  operationModes     630787 non-null  object \n",
      " 16  choices            598187 non-null  object \n",
      " 17  unitMinPrice       600011 non-null  float64\n",
      " 18  menuId             629897 non-null  object \n",
      " 19  menuCode           632113 non-null  object \n",
      " 20  menuName           632113 non-null  object \n",
      " 21  merchantId         632113 non-null  object \n",
      " 22  merchantName       632113 non-null  object \n",
      " 23  userRating         629897 non-null  float64\n",
      " 24  mainCategory       629897 non-null  object \n",
      " 25  priceRange         632113 non-null  object \n",
      " 26  features           629897 non-null  object \n",
      " 27  merchantChain      196167 non-null  object \n",
      " 28  mainCuisineCode    2216 non-null    object \n",
      " 29  evaluation         2216 non-null    float64\n",
      " 30  evaluationAverage  2216 non-null    float64\n",
      " 31  avgPrice           2216 non-null    float64\n",
      " 32  mainFoodType       2216 non-null    object \n",
      " 33  superRestaurant    2216 non-null    float64\n",
      " 34  posCode            301264 non-null  object \n",
      " 35  ean                16169 non-null   float64\n",
      " 36  discoveryTags      2216 non-null    object \n",
      "dtypes: bool(2), float64(10), int64(1), object(24)\n",
      "memory usage: 174.8+ MB\n"
     ]
    }
   ],
   "source": [
    "menuItensDf.info()"
   ]
  },
  {
   "cell_type": "markdown",
   "metadata": {},
   "source": [
    "# Restart from here"
   ]
  },
  {
   "cell_type": "code",
   "execution_count": 3,
   "metadata": {},
   "outputs": [],
   "source": [
    "# restore dataframes\n",
    "df = pd.read_json(\"./df.json\")\n",
    "menuDf = pd.read_json(\"./menuDf.json\")\n",
    "menuItensDf = pd.read_json(\"./menuItensDf.json\")"
   ]
  },
  {
   "cell_type": "markdown",
   "metadata": {},
   "source": [
    "## Analyzing price vs Score"
   ]
  },
  {
   "cell_type": "code",
   "execution_count": 59,
   "metadata": {},
   "outputs": [
    {
     "data": {
      "text/plain": [
       "<matplotlib.axes._subplots.AxesSubplot at 0x7ff789c1abe0>"
      ]
     },
     "execution_count": 59,
     "metadata": {},
     "output_type": "execute_result"
    },
    {
     "data": {
      "image/png": "[encoded data removed]",
      "text/plain": [
       "<Figure size 432x288 with 1 Axes>"
      ]
     },
     "metadata": {
      "needs_background": "light"
     },
     "output_type": "display_data"
    }
   ],
   "source": [
    "parmegiana = menuItensDf[menuItensDf['description'].str.contains('parmegiana')]\n",
    "parmegiana.unitPrice.plot(kind='box')"
   ]
  },
  {
   "cell_type": "code",
   "execution_count": 60,
   "metadata": {},
   "outputs": [],
   "source": [
    "Q3 = parmegiana.unitPrice.quantile(0.75)\n",
    "parmegiana = parmegiana[parmegiana.unitPrice <= Q3]"
   ]
  },
  {
   "cell_type": "code",
   "execution_count": 61,
   "metadata": {},
   "outputs": [
    {
     "data": {
      "text/plain": [
       "<matplotlib.axes._subplots.AxesSubplot at 0x7ff7c5c00280>"
      ]
     },
     "execution_count": 61,
     "metadata": {},
     "output_type": "execute_result"
    },
    {
     "data": {
      "image/png": "[encoded data removed]",
      "text/plain": [
       "<Figure size 432x288 with 1 Axes>"
      ]
     },
     "metadata": {
      "needs_background": "light"
     },
     "output_type": "display_data"
    }
   ],
   "source": [
    "parmegiana.unitPrice.plot(kind='box')"
   ]
  },
  {
   "cell_type": "code",
   "execution_count": 62,
   "metadata": {},
   "outputs": [],
   "source": [
    "Q0 = parmegiana.unitPrice.quantile(0.25)\n",
    "parmegiana = parmegiana[parmegiana.unitPrice >= Q0]"
   ]
  },
  {
   "cell_type": "code",
   "execution_count": 63,
   "metadata": {},
   "outputs": [
    {
     "data": {
      "text/plain": [
       "<matplotlib.axes._subplots.AxesSubplot at 0x7ff7c1055280>"
      ]
     },
     "execution_count": 63,
     "metadata": {},
     "output_type": "execute_result"
    },
    {
     "data": {
      "image/png": "[encoded data removed]",
      "text/plain": [
       "<Figure size 432x288 with 1 Axes>"
      ]
     },
     "metadata": {
      "needs_background": "light"
     },
     "output_type": "display_data"
    }
   ],
   "source": [
    "parmegiana.unitPrice.plot(kind='box')"
   ]
  },
  {
   "cell_type": "code",
   "execution_count": 64,
   "metadata": {},
   "outputs": [
    {
     "data": {
      "text/plain": [
       "{'mean': 31.830686274509798, 'min': 22.0, 'max': 45.9}"
      ]
     },
     "execution_count": 64,
     "metadata": {},
     "output_type": "execute_result"
    }
   ],
   "source": [
    "stats = {}\n",
    "stats['mean'] = parmegiana.unitPrice.mean()\n",
    "stats['min'] = parmegiana.unitPrice.min()\n",
    "stats['max'] = parmegiana.unitPrice.max()\n",
    "stats"
   ]
  },
  {
   "cell_type": "code",
   "execution_count": 67,
   "metadata": {},
   "outputs": [
    {
     "data": {
      "text/plain": [
       "<seaborn.axisgrid.PairGrid at 0x7ff7d165c9d0>"
      ]
     },
     "execution_count": 67,
     "metadata": {},
     "output_type": "execute_result"
    },
    {
     "data": {
      "image/png": "[encoded data removed]",
      "text/plain": [
       "<Figure size 360x360 with 6 Axes>"
      ]
     },
     "metadata": {
      "needs_background": "light"
     },
     "output_type": "display_data"
    }
   ],
   "source": [
    "sns.pairplot(parmegiana[['userRating', 'unitPrice']])"
   ]
  },
  {
   "cell_type": "markdown",
   "metadata": {},
   "source": [
    "Conclusion: It doesnt seem to exist any kind of correlation between user rating and price. Probably because rating has to do with the service itself and price would impact on number of sales but not necessarily you would get a low avaliation because of price since the customer already decided that he was ok with that price."
   ]
  },
  {
   "cell_type": "markdown",
   "metadata": {},
   "source": [
    "# Pricing"
   ]
  },
  {
   "cell_type": "markdown",
   "metadata": {},
   "source": [
    "- https://medium.com/airbnb-engineering/learning-market-dynamics-for-optimal-pricing-97cffbcc53e3"
   ]
  },
  {
   "cell_type": "markdown",
   "metadata": {},
   "source": [
    "## Hypothesis\n",
    "\n",
    "- study categories in a certain region. Proportion of categories and display in a map. That helps understand what kind of options you are going against with\n",
    "- price ranges for each category\n",
    "\n",
    "If price is determined by offer and demand can I combine the data of number of places in a certain area offering a given meal as the offer vs an estimative of demand given the sales data I have from my customer?\n",
    "\n",
    "Example: I now that in my area X places offer \"parmegiana\" and its one of the most ordered meals in my customer restaurant. Can I combine both to determine the deal price for it given that I know the price that those other places are offering?\n",
    "\n",
    "Development: The simples pricing strategy seems to be to look at competition at let our customer decide what the price should be. We can get the data and compile it and display static information about the mean / min / max price on that particular meal. Also we can set and alarm of product that seems to be pricied too high.\n",
    "\n",
    "- get data given customer location\n",
    "- search similar products based on the name\n",
    "- compile statistics about price on ifood market place and display somewhere\n",
    "- check which product have a price too high or it's standouts in some way compared to competition and display on ifood dashboard"
   ]
  },
  {
   "cell_type": "code",
   "execution_count": null,
   "metadata": {},
   "outputs": [],
   "source": []
  },
  {
   "cell_type": "code",
   "execution_count": null,
   "metadata": {},
   "outputs": [],
   "source": []
  }
 ],
 "metadata": {
  "kernelspec": {
   "display_name": "Python 3",
   "language": "python",
   "name": "python3"
  },
  "language_info": {
   "codemirror_mode": {
    "name": "ipython",
    "version": 3
   },
   "file_extension": ".py",
   "mimetype": "text/x-python",
   "name": "python",
   "nbconvert_exporter": "python",
   "pygments_lexer": "ipython3",
   "version": "3.6.10"
  }
 },
 "nbformat": 4,
 "nbformat_minor": 4
}
